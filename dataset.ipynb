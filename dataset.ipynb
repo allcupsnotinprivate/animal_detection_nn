{
 "cells": [
  {
   "cell_type": "code",
   "execution_count": 5,
   "id": "4ff54d8e-8f14-4be9-913a-343db3dfd29f",
   "metadata": {
    "scrolled": true
   },
   "outputs": [
    {
     "name": "stdout",
     "output_type": "stream",
     "text": [
      "Defaulting to user installation because normal site-packages is not writeable\n",
      "Requirement already satisfied: pandas in /home/aleksv/anaconda3/lib/python3.12/site-packages (2.2.2)\n",
      "Requirement already satisfied: tqdm in /home/aleksv/anaconda3/lib/python3.12/site-packages (4.66.4)\n",
      "Requirement already satisfied: numpy>=1.26.0 in /home/aleksv/anaconda3/lib/python3.12/site-packages (from pandas) (1.26.4)\n",
      "Requirement already satisfied: python-dateutil>=2.8.2 in /home/aleksv/anaconda3/lib/python3.12/site-packages (from pandas) (2.9.0.post0)\n",
      "Requirement already satisfied: pytz>=2020.1 in /home/aleksv/anaconda3/lib/python3.12/site-packages (from pandas) (2024.1)\n",
      "Requirement already satisfied: tzdata>=2022.7 in /home/aleksv/anaconda3/lib/python3.12/site-packages (from pandas) (2023.3)\n",
      "Requirement already satisfied: six>=1.5 in /home/aleksv/anaconda3/lib/python3.12/site-packages (from python-dateutil>=2.8.2->pandas) (1.16.0)\n"
     ]
    }
   ],
   "source": [
    "!pip install pandas tqdm"
   ]
  },
  {
   "cell_type": "code",
   "execution_count": 58,
   "id": "84b756b3-3c67-44e2-8d04-968bdec249c1",
   "metadata": {},
   "outputs": [],
   "source": [
    "import os\n",
    "import tqdm\n",
    "import shutil\n",
    "import pandas as pd"
   ]
  },
  {
   "cell_type": "code",
   "execution_count": 59,
   "id": "0d2430bf-f0d0-4d9f-b41a-3b43cd1790bd",
   "metadata": {},
   "outputs": [],
   "source": [
    "DATASET_PATH = r\"./dataset\"\n",
    "RAW_IMG_PATH = os.path.join(DATASET_PATH, \"raw-img\")\n",
    "\n",
    "TRAIN_IMG_PATH = os.path.join(DATASET_PATH, 'train')\n",
    "TEST_IMG_PATH = os.path.join(DATASET_PATH, 'test')\n",
    "os.makedirs(TRAIN_IMG_PATH, exist_ok=True)\n",
    "os.makedirs(TEST_IMG_PATH, exist_ok=True)\n",
    "\n",
    "TEST_DATA_PER = 0.15"
   ]
  },
  {
   "cell_type": "code",
   "execution_count": 60,
   "id": "90389f80-89e2-4d85-9b77-f42104bd24f4",
   "metadata": {},
   "outputs": [],
   "source": [
    "def collect_dataset(img_dir_path: str, imgs: list, target_path: str, group: str):\n",
    "    annotation = {\n",
    "      'filename': [],\n",
    "      'label': [],\n",
    "      'group': []\n",
    "    }\n",
    "    label = img_dir_path.split(\"/\")[-1]\n",
    "    for img in imgs:\n",
    "        img_path = os.path.join(img_dir_path, img)\n",
    "        new_img_path = os.path.join(target_path, img)\n",
    "        shutil.copy(img_path, new_img_path)\n",
    "        annotation['filename'].append(img)\n",
    "        annotation['label'].append(label)\n",
    "        annotation['group'].append(group)\n",
    "    \n",
    "    return annotation\n",
    "\n",
    "def update_annotation(curr: dict, in_: dict):\n",
    "    curr['filename'].extend(in_['filename'])\n",
    "    curr['label'].extend(in_['label'])\n",
    "    curr['group'].extend(in_['group'])"
   ]
  },
  {
   "cell_type": "code",
   "execution_count": 62,
   "id": "e94bd5c9-f994-43fd-88b2-d2e9d22c782c",
   "metadata": {},
   "outputs": [
    {
     "name": "stderr",
     "output_type": "stream",
     "text": [
      "100%|███████████████████████████████████████████| 10/10 [00:01<00:00,  5.94it/s]\n"
     ]
    }
   ],
   "source": [
    "raw_img_category_dirs = os.listdir(RAW_IMG_PATH)\n",
    "annotation = {\n",
    "    'filename': [],\n",
    "    'label': [],\n",
    "    'group': []\n",
    "}\n",
    "for dir in tqdm.tqdm(raw_img_category_dirs):\n",
    "    dir_path = os.path.join(RAW_IMG_PATH, dir)\n",
    "    if os.path.isdir(dir_path):\n",
    "        img_files = [f for f in os.listdir(dir_path) if f.lower().endswith(('.jpeg',))]\n",
    "        boundary_idx = int(len(img_files) * (1 - TEST_DATA_PER))\n",
    "        train_files, test_files = img_files[:boundary_idx], img_files[:boundary_idx]\n",
    "        \n",
    "        train_annotation = collect_dataset(dir_path, train_files, TRAIN_IMG_PATH, 'train')\n",
    "        update_annotation(annotation, train_annotation)\n",
    "        \n",
    "        test_annotation = collect_dataset(dir_path, test_files, TEST_IMG_PATH, 'test')\n",
    "        update_annotation(annotation, test_annotation)\n",
    "\n",
    "annotation_df = pd.DataFrame(annotation)\n",
    "annotation_df.to_csv(\n",
    "    os.path.join(DATASET_PATH, 'annotations.csv'), index=True, index_label='index'\n",
    ")"
   ]
  },
  {
   "cell_type": "code",
   "execution_count": null,
   "id": "2c7a2dae-8fb3-46a8-9a55-b188fd484cdc",
   "metadata": {},
   "outputs": [],
   "source": []
  }
 ],
 "metadata": {
  "kernelspec": {
   "display_name": "Python 3 (ipykernel)",
   "language": "python",
   "name": "python3"
  },
  "language_info": {
   "codemirror_mode": {
    "name": "ipython",
    "version": 3
   },
   "file_extension": ".py",
   "mimetype": "text/x-python",
   "name": "python",
   "nbconvert_exporter": "python",
   "pygments_lexer": "ipython3",
   "version": "3.12.4"
  }
 },
 "nbformat": 4,
 "nbformat_minor": 5
}
